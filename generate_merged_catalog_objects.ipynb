{
 "cells": [
  {
   "cell_type": "code",
   "execution_count": 1,
   "metadata": {},
   "outputs": [
    {
     "name": "stdout",
     "output_type": "stream",
     "text": [
      "Merging complete. Output written to merged_output.jsonl.\n"
     ]
    }
   ],
   "source": [
    "import json\n",
    "\n",
    "# Load the first JSON file (contains an array of JSON objects)\n",
    "with open('monstro_TechProduct_11_09_2024.json', 'r', encoding='utf-8') as f:\n",
    "    first_file_data = json.load(f)\n",
    "\n",
    "# Load the second JSONL file (contains JSON objects, one per line)\n",
    "with open('vector_search_embeddings_format_11_09_2024.jsonl', 'r', encoding='utf-8') as f:\n",
    "    second_file_data = [json.loads(line) for line in f]\n",
    "\n",
    "# Create a mapping from uuid to the entire JSON object in the first file\n",
    "uuid_to_data_map = {item['uuid']: item for item in first_file_data}\n",
    "\n",
    "# Prepare a list to hold the merged entries\n",
    "merged_data = []\n",
    "\n",
    "# Iterate over each entry in the second file\n",
    "for entry in second_file_data:\n",
    "    uuid = entry['id']  # The id field in the second file corresponds to uuid in the first file\n",
    "    if uuid in uuid_to_data_map:\n",
    "        # Merge the entry with the corresponding JSON object from the first file\n",
    "        merged_entry = {\n",
    "            \"id\": entry[\"id\"],\n",
    "            \"embedding\": entry[\"embedding\"],\n",
    "            **uuid_to_data_map[uuid]  # Merge the entire JSON object from the first file\n",
    "        }\n",
    "        merged_data.append(merged_entry)\n",
    "\n",
    "# Write the merged data to a new JSONL file\n",
    "with open('agent_builder_json_w_embeddings_1.jsonl', 'w', encoding='utf-8') as f:\n",
    "    for item in merged_data:\n",
    "        f.write(json.dumps(item) + '\\n')\n",
    "\n",
    "print(\"Merging complete. Output written to merged_output.jsonl.\")"
   ]
  },
  {
   "cell_type": "code",
   "execution_count": null,
   "metadata": {},
   "outputs": [],
   "source": []
  }
 ],
 "metadata": {
  "kernelspec": {
   "display_name": "Python 3",
   "language": "python",
   "name": "python3"
  },
  "language_info": {
   "codemirror_mode": {
    "name": "ipython",
    "version": 3
   },
   "file_extension": ".py",
   "mimetype": "text/x-python",
   "name": "python",
   "nbconvert_exporter": "python",
   "pygments_lexer": "ipython3",
   "version": "3.11.6"
  }
 },
 "nbformat": 4,
 "nbformat_minor": 2
}
