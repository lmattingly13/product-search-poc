{
 "cells": [
  {
   "cell_type": "code",
   "execution_count": null,
   "metadata": {},
   "outputs": [],
   "source": [
    "!pip3 install git+https://github.com/googleapis/python-aiplatform.git"
   ]
  },
  {
   "cell_type": "code",
   "execution_count": 1,
   "metadata": {},
   "outputs": [],
   "source": [
    "from google.cloud.aiplatform.matching_engine.matching_engine_index_endpoint import (\n",
    "    HybridQuery,\n",
    ")\n",
    "import json \n",
    "import os\n",
    "from google.cloud import aiplatform\n",
    "from vertexai.preview.language_models import TextEmbeddingModel\n",
    "\n",
    "os.environ[\"GOOGLE_APPLICATION_CREDENTIALS\"] = \"/Users/lmattingly/Downloads/rv-hermes-nonprod-3a8067e91511.json\"\n",
    "\n",
    "# Replace with your project ID, region, and bucket name\n",
    "project_id = \"rv-hermes-nonprod\"\n",
    "region = \"us-central1\"\n",
    "\n",
    "# Initialize Vertex AI\n",
    "aiplatform.init(project=project_id, location=region)\n",
    "\n",
    "COMMERCE_DEPLOYED_TOKEN_INDEX_ID = f\"commerce_product_search_index_poc_3\"\n",
    "\n",
    "COMMERCE_ENDPOINT_ID = \"3531785280044400640\"\n",
    "\n",
    "model = TextEmbeddingModel.from_pretrained(\"text-embedding-004\") #for commerce use text-embedding-004\n",
    "\n",
    "\n",
    "# wrapper\n",
    "def get_dense_embedding(text):\n",
    "    return model.get_embeddings([text])[0].values\n",
    "\n",
    "\n",
    "my_index_endpoint = aiplatform.MatchingEngineIndexEndpoint(\n",
    "    index_endpoint_name=f\"{COMMERCE_ENDPOINT_ID}\"\n",
    ")\n",
    "\n"
   ]
  },
  {
   "cell_type": "code",
   "execution_count": 2,
   "metadata": {},
   "outputs": [
    {
     "name": "stdout",
     "output_type": "stream",
     "text": [
      "{'_id': {'$oid': '66173b0837bd9527a1588ca6'}, 'attributes': [{'val': ['https://pisces.bbystatic.com/prescaled/500/500/image2/BestBuy_US/images/products/6578/6578332_sd.jpg'], 'valSlug': ['https-pisces-bbystatic-com'], 'name': 'Image File Name/Location', 'id': 100019, 'slug': 'image-file-name-location'}, {'val': ['https://bestbuy.7tiv.net/c/159047/633495/10014?prodsku=6578332&u=https%3A%2F%2Fapi.bestbuy.com%2Fclick%2F-%2F6578332%2Fpdp&intsrc=CATF_4831'], 'valSlug': ['https-bestbuy-7tiv-net'], 'name': 'LinkModel', 'id': 1000044, 'slug': 'linkmodel'}, {'val': ['616960446439'], 'valSlug': ['0616960446439'], 'name': 'UPC', 'id': 100005, 'slug': 'upc'}, {'val': ['TFALT602DCV2PAP5'], 'valSlug': ['tfalt602dcv2pap5'], 'name': 'Manufacturer SKU', 'id': 100007, 'slug': 'manufacturersku'}, {'val': ['6578332'], 'valSlug': ['6578332'], 'name': 'Provider SKU', 'id': 1105526, 'slug': 'asin'}, {'val': ['Tracfone - TCL 30 Z 32GB Prepaid with 1 Year of Service Bundle - Black'], 'valSlug': ['tracfone-tcl-30-z-32gb-prepaid-with-1-year-of-service-bundle-black'], 'name': 'ProductName', 'id': 1000003, 'slug': 'productname'}], 'date': {'add': {'$date': '2024-04-11T00:20:19.895Z'}, 'mod': {'$date': '2024-05-19T21:20:34.286Z'}, 'slug': {'$date': '2024-04-11T01:13:09.705Z'}}, 'loc': 'en_US', 'mfr': {'name': 'Tracfone Wireless', 'id': 204968, 'slug': 'tracfone-wireless', 'url': 'http://www.tracfone.com/'}, 'product': {'name': 'Tracfone - TCL 30 Z 32GB Prepaid with 1 Year of Service Bundle - Black', 'upc': ['0616960446439'], 'psku': ['6578332'], 'htopic': {'typePath': 'Content:Content:Content', 'hPath': 'Tech:Mobile:Phones', 'hslugPath': 'tech:mobile:phones', 'name': 'Phones', 'huuidPath': '752de8fe-6106-4537-bcb9-7a933ad51d48:1c83a249-c387-11e2-8208-0291187b029a:1c5a20d4-c387-11e2-8208-0291187b029a', 'type': 'Content', 'uuid': '1c5a20d4-c387-11e2-8208-0291187b029a', 'slug': 'phones', 'huuids': ['752de8fe-6106-4537-bcb9-7a933ad51d48', '1c83a249-c387-11e2-8208-0291187b029a', '1c5a20d4-c387-11e2-8208-0291187b029a']}, 'sku': ['TFALT602DCV2PAP5'], 'slug': 'tracfone-tcl-30-z-32gb-prepaid-with-1-year-of-service-bundle-black', 'pskuMap': [{'val': '6578332', 'valSlug': '6578332', 'pipId': 300628}]}, 'slugs': [{'name': 'tracfone-tcl-30-z-32gb-prepaid-with-1-year-of-service-bundle-black', 'type': 'product', 'addDate': {'$date': '2024-04-11T01:13:09.705Z'}}], 'status': 'Live', 'uuid': 'a6c23bb3-b9b5-4aab-b2e3-1a6502d51173', 'images': [{'sType': 'mfr', 'mod': {'$date': '2024-04-11T00:59:58.393Z'}, 'name': '6578332-sd.jpg', 'mediaType': 'stock', 'uuid': 'c776a3cf-a46d-4933-9922-5fbcaf84ca89'}], 'hasOffers3': False, 'hasOffers4739': False, 'hasOffers5315': False, 'pRunId': 1715997600127} 0.46843791007995605\n",
      "{'_id': {'$oid': '66173b0837bd9527a1588c1a'}, 'attributes': [{'val': ['https://pisces.bbystatic.com/prescaled/500/500/image2/BestBuy_US/images/products/6578/6578340_sd.jpg'], 'valSlug': ['https-pisces-bbystatic-com'], 'name': 'Image File Name/Location', 'id': 100019, 'slug': 'image-file-name-location'}, {'val': ['https://bestbuy.7tiv.net/c/159047/633495/10014?prodsku=6578340&u=https%3A%2F%2Fapi.bestbuy.com%2Fclick%2F-%2F6578340%2Fpdp&intsrc=CATF_4831'], 'valSlug': ['https-bestbuy-7tiv-net'], 'name': 'LinkModel', 'id': 1000044, 'slug': 'linkmodel'}, {'val': ['616960485698'], 'valSlug': ['0616960485698'], 'name': 'UPC', 'id': 100005, 'slug': 'upc'}, {'val': ['TFMTXT2215DCV2PAP5'], 'valSlug': ['tfmtxt2215dcv2pap5'], 'name': 'Manufacturer SKU', 'id': 100007, 'slug': 'manufacturersku'}, {'val': ['6578340'], 'valSlug': ['6578340'], 'name': 'Provider SKU', 'id': 1105526, 'slug': 'asin'}, {'val': ['Tracfone - moto g Stylus 128GB Prepaid with 1 Year of Service Bundle - Black'], 'valSlug': ['tracfone-moto-g-stylus-128gb-prepaid-with-1-year-of-service-bundle-black'], 'name': 'ProductName', 'id': 1000003, 'slug': 'productname'}], 'date': {'add': {'$date': '2024-04-11T00:20:19.895Z'}, 'mod': {'$date': '2024-05-19T21:20:34.294Z'}, 'slug': {'$date': '2024-04-11T01:13:06.819Z'}}, 'loc': 'en_US', 'mfr': {'name': 'Tracfone Wireless', 'id': 204968, 'slug': 'tracfone-wireless', 'url': 'http://www.tracfone.com/'}, 'product': {'name': 'Tracfone - moto g Stylus 128GB Prepaid with 1 Year of Service Bundle - Black', 'upc': ['0616960485698'], 'psku': ['6578340'], 'htopic': {'typePath': 'Content:Content:Content', 'hPath': 'Tech:Mobile:Phones', 'hslugPath': 'tech:mobile:phones', 'name': 'Phones', 'huuidPath': '752de8fe-6106-4537-bcb9-7a933ad51d48:1c83a249-c387-11e2-8208-0291187b029a:1c5a20d4-c387-11e2-8208-0291187b029a', 'type': 'Content', 'uuid': '1c5a20d4-c387-11e2-8208-0291187b029a', 'slug': 'phones', 'huuids': ['752de8fe-6106-4537-bcb9-7a933ad51d48', '1c83a249-c387-11e2-8208-0291187b029a', '1c5a20d4-c387-11e2-8208-0291187b029a']}, 'sku': ['TFMTXT2215DCV2PAP5'], 'slug': 'tracfone-moto-g-stylus-128gb-prepaid-with-1-year-of-service-bundle-black', 'pskuMap': [{'val': '6578340', 'valSlug': '6578340', 'pipId': 300628}]}, 'slugs': [{'name': 'tracfone-moto-g-stylus-128gb-prepaid-with-1-year-of-service-bundle-black', 'type': 'product', 'addDate': {'$date': '2024-04-11T01:13:06.819Z'}}], 'status': 'Live', 'uuid': '490bff9f-e00b-4e53-9a74-03bb76e1d999', 'images': [{'sType': 'mfr', 'mod': {'$date': '2024-04-11T00:59:58.051Z'}, 'name': '6578340-sd.jpg', 'mediaType': 'stock', 'uuid': '93b1af72-254f-4c55-96f8-3fb7399ac909'}], 'hasOffers3': False, 'hasOffers4739': False, 'hasOffers5315': False, 'pRunId': 1715997600127} 0.46613943576812744\n",
      "{'_id': {'$oid': '66173b0837bd9527a1588deb'}, 'attributes': [{'val': ['https://pisces.bbystatic.com/prescaled/500/500/image2/BestBuy_US/images/products/6578/6578324_sd.jpg'], 'valSlug': ['https-pisces-bbystatic-com'], 'name': 'Image File Name/Location', 'id': 100019, 'slug': 'image-file-name-location'}, {'val': ['https://bestbuy.7tiv.net/c/159047/633495/10014?prodsku=6578324&u=https%3A%2F%2Fapi.bestbuy.com%2Fclick%2F-%2F6578324%2Fpdp&intsrc=CATF_4831'], 'valSlug': ['https-bestbuy-7tiv-net'], 'name': 'LinkModel', 'id': 1000044, 'slug': 'linkmodel'}, {'val': ['616960500599'], 'valSlug': ['0616960500599'], 'name': 'UPC', 'id': 100005, 'slug': 'upc'}, {'val': ['TFMTXT2271DCPAP14'], 'valSlug': ['tfmtxt2271dcpap14'], 'name': 'Manufacturer SKU', 'id': 100007, 'slug': 'manufacturersku'}, {'val': ['6578324'], 'valSlug': ['6578324'], 'name': 'Provider SKU', 'id': 1105526, 'slug': 'asin'}, {'val': ['Tracfone - moto g Play 32GB Prepaid with 1 Year of Service Bundle - Blue'], 'valSlug': ['tracfone-moto-g-play-32gb-prepaid-with-1-year-of-service-bundle-blue'], 'name': 'ProductName', 'id': 1000003, 'slug': 'productname'}], 'date': {'add': {'$date': '2024-04-11T00:20:19.895Z'}, 'mod': {'$date': '2024-05-19T21:20:34.319Z'}, 'slug': {'$date': '2024-04-11T01:13:03.647Z'}}, 'loc': 'en_US', 'mfr': {'name': 'Tracfone Wireless', 'id': 204968, 'slug': 'tracfone-wireless', 'url': 'http://www.tracfone.com/'}, 'product': {'name': 'Tracfone - moto g Play 32GB Prepaid with 1 Year of Service Bundle - Blue', 'upc': ['0616960500599'], 'psku': ['6578324'], 'htopic': {'typePath': 'Content:Content:Content', 'hPath': 'Tech:Mobile:Phones', 'hslugPath': 'tech:mobile:phones', 'name': 'Phones', 'huuidPath': '752de8fe-6106-4537-bcb9-7a933ad51d48:1c83a249-c387-11e2-8208-0291187b029a:1c5a20d4-c387-11e2-8208-0291187b029a', 'type': 'Content', 'uuid': '1c5a20d4-c387-11e2-8208-0291187b029a', 'slug': 'phones', 'huuids': ['752de8fe-6106-4537-bcb9-7a933ad51d48', '1c83a249-c387-11e2-8208-0291187b029a', '1c5a20d4-c387-11e2-8208-0291187b029a']}, 'sku': ['TFMTXT2271DCPAP14'], 'slug': 'tracfone-moto-g-play-32gb-prepaid-with-1-year-of-service-bundle-blue', 'pskuMap': [{'val': '6578324', 'valSlug': '6578324', 'pipId': 300628}]}, 'slugs': [{'name': 'tracfone-moto-g-play-32gb-prepaid-with-1-year-of-service-bundle-blue', 'type': 'product', 'addDate': {'$date': '2024-04-11T01:13:03.647Z'}}], 'status': 'Live', 'uuid': '36e52790-3549-46ec-82c1-c1ebedfc1c71', 'images': [{'sType': 'mfr', 'mod': {'$date': '2024-04-11T00:59:55.843Z'}, 'name': '6578324-sd.jpg', 'mediaType': 'stock', 'uuid': '5bfcdc73-4612-48d2-a4b5-33fee506f743'}], 'hasOffers3': False, 'hasOffers4739': False, 'hasOffers5315': False, 'pRunId': 1716570000130} 0.46499383449554443\n",
      "{'_id': {'$oid': '66173b0837bd9527a1588d50'}, 'attributes': [{'val': ['https://pisces.bbystatic.com/prescaled/500/500/image2/BestBuy_US/images/products/6578/6578326_sd.jpg'], 'valSlug': ['https-pisces-bbystatic-com'], 'name': 'Image File Name/Location', 'id': 100019, 'slug': 'image-file-name-location'}, {'val': ['https://bestbuy.7tiv.net/c/159047/633495/10014?prodsku=6578326&u=https%3A%2F%2Fapi.bestbuy.com%2Fclick%2F-%2F6578326%2Fpdp&intsrc=CATF_4831'], 'valSlug': ['https-bestbuy-7tiv-net'], 'name': 'LinkModel', 'id': 1000044, 'slug': 'linkmodel'}, {'val': ['616960436386'], 'valSlug': ['0616960436386'], 'name': 'UPC', 'id': 100005, 'slug': 'upc'}, {'val': ['TFMTXT2163DCV2PAP5'], 'valSlug': ['tfmtxt2163dcv2pap5'], 'name': 'Manufacturer SKU', 'id': 100007, 'slug': 'manufacturersku'}, {'val': ['6578326'], 'valSlug': ['6578326'], 'name': 'Provider SKU', 'id': 1105526, 'slug': 'asin'}, {'val': ['Tracfone - moto g Pure 32GB Prepaid with 1 Year of Service Bundle - Blue'], 'valSlug': ['tracfone-moto-g-pure-32gb-prepaid-with-1-year-of-service-bundle-blue'], 'name': 'ProductName', 'id': 1000003, 'slug': 'productname'}], 'date': {'add': {'$date': '2024-04-11T00:20:19.895Z'}, 'mod': {'$date': '2024-05-19T21:20:34.277Z'}, 'slug': {'$date': '2024-04-11T01:13:10.613Z'}}, 'loc': 'en_US', 'mfr': {'name': 'Tracfone Wireless', 'id': 204968, 'slug': 'tracfone-wireless', 'url': 'http://www.tracfone.com/'}, 'product': {'name': 'Tracfone - moto g Pure 32GB Prepaid with 1 Year of Service Bundle - Blue', 'upc': ['0616960436386'], 'psku': ['6578326'], 'htopic': {'typePath': 'Content:Content:Content', 'hPath': 'Tech:Mobile:Phones', 'hslugPath': 'tech:mobile:phones', 'name': 'Phones', 'huuidPath': '752de8fe-6106-4537-bcb9-7a933ad51d48:1c83a249-c387-11e2-8208-0291187b029a:1c5a20d4-c387-11e2-8208-0291187b029a', 'type': 'Content', 'uuid': '1c5a20d4-c387-11e2-8208-0291187b029a', 'slug': 'phones', 'huuids': ['752de8fe-6106-4537-bcb9-7a933ad51d48', '1c83a249-c387-11e2-8208-0291187b029a', '1c5a20d4-c387-11e2-8208-0291187b029a']}, 'sku': ['TFMTXT2163DCV2PAP5'], 'slug': 'tracfone-moto-g-pure-32gb-prepaid-with-1-year-of-service-bundle-blue', 'pskuMap': [{'val': '6578326', 'valSlug': '6578326', 'pipId': 300628}]}, 'slugs': [{'name': 'tracfone-moto-g-pure-32gb-prepaid-with-1-year-of-service-bundle-blue', 'type': 'product', 'addDate': {'$date': '2024-04-11T01:13:10.613Z'}}], 'status': 'Live', 'uuid': 'a9ab0767-91d1-4a98-985e-bab0ebd29c52', 'images': [{'sType': 'mfr', 'mod': {'$date': '2024-04-11T00:59:57.101Z'}, 'name': '6578326-sd.jpg', 'mediaType': 'stock', 'uuid': '968a1647-949d-4aca-93b1-253764181613'}], 'hasOffers3': False, 'hasOffers4739': False, 'hasOffers5315': False, 'pRunId': 1715997600127} 0.46488428115844727\n",
      "{'_id': {'$oid': '66173b0837bd9527a1588e51'}, 'attributes': [{'val': ['https://pisces.bbystatic.com/prescaled/500/500/image2/BestBuy_US/images/products/6578/6578338_sd.jpg'], 'valSlug': ['https-pisces-bbystatic-com'], 'name': 'Image File Name/Location', 'id': 100019, 'slug': 'image-file-name-location'}, {'val': ['https://bestbuy.7tiv.net/c/159047/633495/10014?prodsku=6578338&u=https%3A%2F%2Fapi.bestbuy.com%2Fclick%2F-%2F6578338%2Fpdp&intsrc=CATF_4831'], 'valSlug': ['https-bestbuy-7tiv-net'], 'name': 'LinkModel', 'id': 1000044, 'slug': 'linkmodel'}, {'val': ['616960513445'], 'valSlug': ['0616960513445'], 'name': 'UPC', 'id': 100005, 'slug': 'upc'}, {'val': ['TFSAS135DCPAP14'], 'valSlug': ['tfsas135dcpap14'], 'name': 'Manufacturer SKU', 'id': 100007, 'slug': 'manufacturersku'}, {'val': ['6578338'], 'valSlug': ['6578338'], 'name': 'Provider SKU', 'id': 1105526, 'slug': 'asin'}, {'val': ['Tracfone - Samsung Galaxy A03s 32GB Prepaid with 1 Year of Service Bundle - Black'], 'valSlug': ['tracfone-samsung-galaxy-a03s-32gb-prepaid-with-1-year-of-service-bundle-black'], 'name': 'ProductName', 'id': 1000003, 'slug': 'productname'}], 'date': {'add': {'$date': '2024-04-11T00:20:19.895Z'}, 'mod': {'$date': '2024-05-19T21:20:34.309Z'}, 'slug': {'$date': '2024-04-11T01:13:08.260Z'}}, 'loc': 'en_US', 'mfr': {'name': 'Tracfone Wireless', 'id': 204968, 'slug': 'tracfone-wireless', 'url': 'http://www.tracfone.com/'}, 'product': {'name': 'Tracfone - Samsung Galaxy A03s 32GB Prepaid with 1 Year of Service Bundle - Black', 'upc': ['0616960513445'], 'psku': ['6578338'], 'htopic': {'typePath': 'Content:Content:Content', 'hPath': 'Tech:Mobile:Phones', 'hslugPath': 'tech:mobile:phones', 'name': 'Phones', 'huuidPath': '752de8fe-6106-4537-bcb9-7a933ad51d48:1c83a249-c387-11e2-8208-0291187b029a:1c5a20d4-c387-11e2-8208-0291187b029a', 'type': 'Content', 'uuid': '1c5a20d4-c387-11e2-8208-0291187b029a', 'slug': 'phones', 'huuids': ['752de8fe-6106-4537-bcb9-7a933ad51d48', '1c83a249-c387-11e2-8208-0291187b029a', '1c5a20d4-c387-11e2-8208-0291187b029a']}, 'sku': ['TFSAS135DCPAP14'], 'slug': 'tracfone-samsung-galaxy-a03s-32gb-prepaid-with-1-year-of-service-bundle-black', 'pskuMap': [{'val': '6578338', 'valSlug': '6578338', 'pipId': 300628}]}, 'slugs': [{'name': 'tracfone-samsung-galaxy-a03s-32gb-prepaid-with-1-year-of-service-bundle-black', 'type': 'product', 'addDate': {'$date': '2024-04-11T01:13:08.260Z'}}], 'status': 'Live', 'uuid': '1fc0f498-1e9a-4e91-8a1a-0cc3ef936585', 'images': [{'sType': 'mfr', 'mod': {'$date': '2024-04-11T00:59:57.340Z'}, 'name': '6578338-sd.jpg', 'mediaType': 'stock', 'uuid': '86441419-6c6c-4e16-82e8-7e4ea00426f6'}], 'hasOffers3': False, 'hasOffers4739': False, 'hasOffers5315': False, 'pRunId': 1716570000130} 0.462329626083374\n"
     ]
    }
   ],
   "source": [
    "# create HybridQuery\n",
    "query_text = \"small mobile phones\"\n",
    "\n",
    "query_emb = get_dense_embedding(query_text)\n",
    "query = HybridQuery(\n",
    "    dense_embedding=query_emb,\n",
    ")\n",
    "\n",
    "# build a query request\n",
    "response = my_index_endpoint.find_neighbors(\n",
    "    deployed_index_id=COMMERCE_DEPLOYED_TOKEN_INDEX_ID,\n",
    "    queries=[query],\n",
    "    num_neighbors=5,\n",
    ")\n",
    "\n",
    "# Load JSON data from a file\n",
    "with open('monstro_TechProduct_11_09_2024.json', 'r') as file:\n",
    "    json_data = json.load(file)\n",
    "\n",
    "# Extract ids and distances from the match_neighbors_output\n",
    "match_neighbors = response[0]\n",
    "\n",
    "# Create a dictionary for quick lookup of JSON objects by uuid\n",
    "json_dict = {item['uuid']: item for item in json_data}\n",
    "\n",
    "# Prepare the output list\n",
    "output = []\n",
    "\n",
    "# Match ids with the JSON objects and append the distance\n",
    "for neighbor in match_neighbors:\n",
    "    uuid = neighbor.id\n",
    "    distance = neighbor.distance\n",
    "    if uuid in json_dict:\n",
    "        output.append((json_dict[uuid], distance))\n",
    "\n",
    "# Output the result\n",
    "for json_object, distance in output:\n",
    "    print(json_object, distance)"
   ]
  },
  {
   "cell_type": "code",
   "execution_count": null,
   "metadata": {},
   "outputs": [],
   "source": []
  }
 ],
 "metadata": {
  "kernelspec": {
   "display_name": "Python 3",
   "language": "python",
   "name": "python3"
  },
  "language_info": {
   "codemirror_mode": {
    "name": "ipython",
    "version": 3
   },
   "file_extension": ".py",
   "mimetype": "text/x-python",
   "name": "python",
   "nbconvert_exporter": "python",
   "pygments_lexer": "ipython3",
   "version": "3.11.6"
  }
 },
 "nbformat": 4,
 "nbformat_minor": 2
}
